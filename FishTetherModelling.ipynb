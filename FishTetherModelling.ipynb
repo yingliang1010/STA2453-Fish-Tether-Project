{
 "cells": [
  {
   "cell_type": "markdown",
   "id": "b4ca3697-4f9b-4e46-8f04-5274643f17a0",
   "metadata": {},
   "source": [
    "## 1. Load in dataset and preprocess it"
   ]
  },
  {
   "cell_type": "code",
   "execution_count": 1,
   "id": "1d5db2f0-ce4d-44c5-81ad-ecdc5af03c7f",
   "metadata": {},
   "outputs": [],
   "source": [
    "import pandas as pd\n",
    "import numpy as np\n",
    "import re\n",
    "import matplotlib.pyplot as plt\n",
    "from sklearn.preprocessing import LabelEncoder\n",
    "from sklearn.model_selection import train_test_split\n",
    "from sklearn.ensemble import RandomForestClassifier\n",
    "from sklearn.metrics import classification_report, roc_auc_score, confusion_matrix\n",
    "from sklearn.pipeline import make_pipeline\n",
    "from sklearn.preprocessing import StandardScaler\n",
    "from sklearn.utils.class_weight import compute_class_weight\n",
    "from sklearn.linear_model import LogisticRegression\n",
    "from xgboost import XGBClassifier\n",
    "from sklearn.pipeline import Pipeline\n",
    "from sklearn.model_selection import GridSearchCV, StratifiedKFold"
   ]
  },
  {
   "cell_type": "code",
   "execution_count": 2,
   "id": "b1a975ab-bd5e-4f6b-a3e0-1b834ec02a6b",
   "metadata": {},
   "outputs": [
    {
     "name": "stdout",
     "output_type": "stream",
     "text": [
      "         F45      F45.5        F46      F46.5        F47      F47.5  \\\n",
      "0 -48.850989 -47.481644 -45.900477 -44.184644 -42.970845 -41.691276   \n",
      "1 -47.374837 -47.585660 -47.124362 -45.489171 -43.606820 -41.616682   \n",
      "2 -47.870826 -49.341342 -49.339863 -47.152783 -44.901575 -42.735101   \n",
      "3 -44.326289 -45.714510 -47.617086 -48.788610 -48.555806 -46.698281   \n",
      "4 -41.437463 -42.339934 -43.594854 -44.653928 -45.868339 -46.605502   \n",
      "\n",
      "         F48      F48.5        F49      F49.5  ...       F258     F258.5  \\\n",
      "0 -40.599349 -39.570164 -38.581552 -37.671468  ... -34.438977 -34.276976   \n",
      "1 -40.115114 -38.952216 -37.989185 -37.155027  ... -32.662676 -32.770819   \n",
      "2 -40.998254 -39.533235 -38.270208 -37.192617  ... -35.578946 -35.945827   \n",
      "3 -44.686905 -42.949347 -41.513695 -40.306633  ... -26.414957 -25.998080   \n",
      "4 -46.938155 -46.679795 -46.015012 -45.137440  ... -32.225689 -33.095295   \n",
      "\n",
      "        F259     F259.5       F260  fishNum    species       Ping_time  \\\n",
      "0 -33.769410 -32.877393 -31.754954    LT001  lakeTrout   20:58:41.3460   \n",
      "1 -33.138735 -33.692380 -34.371315    LT001  lakeTrout   20:58:41.4730   \n",
      "2 -36.795699 -39.235562 -44.351107    LT001  lakeTrout   20:58:41.6010   \n",
      "3 -25.611524 -25.385563 -25.356683    LT001  lakeTrout   20:58:41.7260   \n",
      "4 -33.863469 -34.066565 -33.165162    LT001  lakeTrout   20:58:41.8520   \n",
      "\n",
      "   dateSample            pingDateTime  \n",
      "0  2022-07-21 2022-07-21 20:58:41.346  \n",
      "1  2022-07-21 2022-07-21 20:58:41.473  \n",
      "2  2022-07-21 2022-07-21 20:58:41.601  \n",
      "3  2022-07-21 2022-07-21 20:58:41.726  \n",
      "4  2022-07-21 2022-07-21 20:58:41.852  \n",
      "\n",
      "[5 rows x 431 columns]\n"
     ]
    },
    {
     "name": "stderr",
     "output_type": "stream",
     "text": [
      "/var/folders/r_/ypjqpbh136gdzxvkn9cvg1wh0000gn/T/ipykernel_41333/4188263284.py:1: DtypeWarning: Columns (12) have mixed types. Specify dtype option on import or set low_memory=False.\n",
      "  df = pd.read_csv('/Users/yingliang/Desktop/FishTetherProject/FishTetherExperiment/ProcessedData/processed_AnalysisData.csv')\n"
     ]
    }
   ],
   "source": [
    "df = pd.read_csv('/Users/yingliang/Desktop/FishTetherProject/FishTetherExperiment/ProcessedData/processed_AnalysisData.csv')\n",
    "\n",
    "frequency_columns = [col for col in df.columns if col.startswith('F')]\n",
    "frequency_columns = frequency_columns[3:]\n",
    "\n",
    "other_columns = ['fishNum', 'species', 'Ping_time', 'dateSample']\n",
    "frequency_columns.extend(other_columns)\n",
    "\n",
    "df = df[frequency_columns]\n",
    "df[\"pingDateTime\"] = pd.to_datetime(df[\"dateSample\"] + \" \" + df[\"Ping_time\"], errors=\"coerce\")\n",
    "print(df.head())"
   ]
  },
  {
   "cell_type": "code",
   "execution_count": 3,
   "id": "639851ff-f42c-4747-a068-0f9ccfb3a8cc",
   "metadata": {},
   "outputs": [],
   "source": [
    "# Remove Lake White Fish data since there are not many samples and data missing for LWF001-LWF003\n",
    "df = df.loc[df['species'] != 'lakeWhitefish']"
   ]
  },
  {
   "cell_type": "markdown",
   "id": "e3e941d4-988c-49b4-9fbb-8788ba8ff1d7",
   "metadata": {},
   "source": [
    "## 2. Build classic machine learning models"
   ]
  },
  {
   "cell_type": "markdown",
   "id": "c1827ae8-8d9c-485f-a2d5-1ec4fa477026",
   "metadata": {},
   "source": [
    "#### 2.1 Handle Missing Data"
   ]
  },
  {
   "cell_type": "code",
   "execution_count": 4,
   "id": "e8deec65-3a81-46a3-b18f-e399453efd9b",
   "metadata": {},
   "outputs": [
    {
     "data": {
      "image/png": "[encoded data removed]",
      "text/plain": [
       "<Figure size 2500x1000 with 2 Axes>"
      ]
     },
     "metadata": {},
     "output_type": "display_data"
    }
   ],
   "source": [
    "# Extract frequency columns\n",
    "freq_columns = [col for col in df.columns if col.startswith('F')]\n",
    "\n",
    "# Function to impute missing values by species\n",
    "def impute_by_species(df, freq_columns, method='mean'):\n",
    "    df_imputed = df.copy()\n",
    "    \n",
    "    for col in freq_columns:\n",
    "        # Compute the mean/median of the column for each species\n",
    "        if method == 'mean':\n",
    "            impute_values = df.groupby('species')[col].transform(lambda x: x.fillna(x.mean()))\n",
    "        elif method == 'median':\n",
    "            impute_values = df.groupby('species')[col].transform(lambda x: x.fillna(x.median()))\n",
    "        else:\n",
    "            raise ValueError(\"Method must be 'mean' or 'median'\")\n",
    "        \n",
    "        # Assign imputed values\n",
    "        df_imputed[col] = impute_values\n",
    "\n",
    "    return df_imputed\n",
    "\n",
    "# Apply the function\n",
    "df = impute_by_species(df, freq_columns, method='mean')\n",
    "\n",
    "# Check if missing values remain\n",
    "import missingno as msno\n",
    "msno.matrix(df)\n",
    "plt.show()"
   ]
  },
  {
   "cell_type": "markdown",
   "id": "ed420345-275c-4975-8902-cb15e288b57f",
   "metadata": {},
   "source": [
    "#### 2.2 Time Feature Engineering: Time elapsed since the first ping"
   ]
  },
  {
   "cell_type": "code",
   "execution_count": 5,
   "id": "21b14650-59c2-44af-b3e7-da394ac95f80",
   "metadata": {
    "scrolled": true
   },
   "outputs": [
    {
     "name": "stderr",
     "output_type": "stream",
     "text": [
      "/var/folders/r_/ypjqpbh136gdzxvkn9cvg1wh0000gn/T/ipykernel_41333/269528243.py:4: PerformanceWarning: DataFrame is highly fragmented.  This is usually the result of calling `frame.insert` many times, which has poor performance.  Consider joining all columns at once using pd.concat(axis=1) instead. To get a de-fragmented frame, use `newframe = frame.copy()`\n",
      "  df['time_elapsed'] = df.groupby('fishNum')['pingDateTime'].transform(\n"
     ]
    }
   ],
   "source": [
    "df['pingDateTime'] = pd.to_datetime(df['pingDateTime'])\n",
    "# Calculate time elapsed since the first ping for each fish (in seconds)\n",
    "# Capture how the fish’s response evolves during the experiment\n",
    "df['time_elapsed'] = df.groupby('fishNum')['pingDateTime'].transform(\n",
    "    lambda x: (x - x.min()).dt.total_seconds()\n",
    ")\n",
    "features = freq_columns + ['time_elapsed']"
   ]
  },
  {
   "cell_type": "markdown",
   "id": "b34c55a9-588a-4f8d-8281-12ef00696118",
   "metadata": {},
   "source": [
    "#### 2.3 Train-Validation-Test Split by Fish"
   ]
  },
  {
   "cell_type": "code",
   "execution_count": 6,
   "id": "feb2f4be-9a7a-4956-b4b3-fc1afc3b84bb",
   "metadata": {},
   "outputs": [],
   "source": [
    "# Split unique fishNum into train/val/test\n",
    "fish_ids = df['fishNum'].unique()\n",
    "train_fish, test_fish = train_test_split(fish_ids, test_size=0.2, stratify=df.groupby('fishNum')['species'].first(), random_state=42)\n",
    "train_fish, val_fish = train_test_split(train_fish, test_size=0.25, stratify=df[df['fishNum'].isin(train_fish)].groupby('fishNum')['species'].first(), random_state=42)\n",
    "\n",
    "# Filter data\n",
    "train_df = df[df['fishNum'].isin(train_fish)]\n",
    "val_df = df[df['fishNum'].isin(val_fish)]\n",
    "test_df = df[df['fishNum'].isin(test_fish)]\n",
    "\n",
    "# Features and target\n",
    "X_train, y_train = train_df[features], train_df['species']\n",
    "X_val, y_val = val_df[features], val_df['species']\n",
    "X_test, y_test = test_df[features], test_df['species']\n",
    "\n",
    "# Encode labels\n",
    "le = LabelEncoder()\n",
    "y_train_enc = le.fit_transform(y_train)\n",
    "y_val_enc = le.transform(y_val)\n",
    "y_test_enc = le.transform(y_test)"
   ]
  },
  {
   "cell_type": "markdown",
   "id": "a72dc3fa-fdb9-4be1-9da1-984f07e77d2a",
   "metadata": {},
   "source": [
    "#### 2.4 Handle Class Imbalance: Class Weighting"
   ]
  },
  {
   "cell_type": "code",
   "execution_count": 7,
   "id": "bc00295d-87d5-40f3-8838-7c159c3c1fa8",
   "metadata": {},
   "outputs": [],
   "source": [
    "# Compute class weights\n",
    "class_weights = compute_class_weight(\n",
    "    'balanced', \n",
    "    classes=np.unique(y_train_enc), \n",
    "    y=y_train_enc\n",
    ")\n",
    "class_weight_dict = {0: class_weights[0], 1: class_weights[1]}"
   ]
  },
  {
   "cell_type": "markdown",
   "id": "39405c70-51bc-4793-bab7-5fd1a9c49e48",
   "metadata": {},
   "source": [
    "#### 2.5 Train Models"
   ]
  },
  {
   "cell_type": "markdown",
   "id": "b9ac90cf-2c27-4069-86e0-7fc37c98cc30",
   "metadata": {},
   "source": [
    "##### 2.5.1 Logistic Regression "
   ]
  },
  {
   "cell_type": "code",
   "execution_count": 8,
   "id": "f8d120ca-0350-45fe-9fa9-8f26b542e0d7",
   "metadata": {},
   "outputs": [
    {
     "name": "stdout",
     "output_type": "stream",
     "text": [
      "\n",
      "=== Logistic Regression Validation ===\n",
      "              precision    recall  f1-score   support\n",
      "\n",
      "           0       0.77      0.73      0.75      1256\n",
      "           1       0.26      0.30      0.28       390\n",
      "\n",
      "    accuracy                           0.63      1646\n",
      "   macro avg       0.52      0.52      0.51      1646\n",
      "weighted avg       0.65      0.63      0.64      1646\n",
      "\n",
      "ROC-AUC: 0.5171\n"
     ]
    }
   ],
   "source": [
    "# ======================\n",
    "# Logistic Regression\n",
    "# ======================\n",
    "\n",
    "# Train model\n",
    "lr = LogisticRegression(\n",
    "    class_weight='balanced',  \n",
    "    solver='liblinear',       # Use a solver that supports class weights\n",
    "    random_state=42\n",
    ")\n",
    "lr.fit(X_train, y_train_enc)\n",
    "\n",
    "# Validation evaluation\n",
    "lr_val_pred = lr.predict(X_val)\n",
    "lr_val_proba = lr.predict_proba(X_val)[:,1]\n",
    "\n",
    "print(\"\\n=== Logistic Regression Validation ===\")\n",
    "print(classification_report(y_val_enc, lr_val_pred))\n",
    "print(f\"ROC-AUC: {roc_auc_score(y_val_enc, lr_val_proba):.4f}\")"
   ]
  },
  {
   "cell_type": "markdown",
   "id": "8564e3cd-5ae3-4c1c-b81e-96f3a6b859f2",
   "metadata": {},
   "source": [
    "##### 2.5.2 Random Forest"
   ]
  },
  {
   "cell_type": "code",
   "execution_count": 9,
   "id": "c7d18b76-8d3b-4980-81ae-310d2ac757a5",
   "metadata": {},
   "outputs": [
    {
     "name": "stdout",
     "output_type": "stream",
     "text": [
      "Fitting 3 folds for each of 12 candidates, totalling 36 fits\n",
      "\n",
      "=== Random Forest Validation ===\n",
      "Best Params: {'clf__max_depth': 10, 'clf__min_samples_split': 5, 'clf__n_estimators': 100}\n",
      "                precision    recall  f1-score   support\n",
      "\n",
      "     lakeTrout       0.78      0.98      0.87      1256\n",
      "smallmouthBass       0.69      0.11      0.19       390\n",
      "\n",
      "      accuracy                           0.78      1646\n",
      "     macro avg       0.74      0.55      0.53      1646\n",
      "  weighted avg       0.76      0.78      0.71      1646\n",
      "\n",
      "ROC-AUC: 0.7282\n"
     ]
    }
   ],
   "source": [
    "# ======================\n",
    "# Random Forest\n",
    "# ======================\n",
    "\n",
    "# Pipeline\n",
    "rf_pipe = Pipeline([\n",
    "    ('clf', RandomForestClassifier(class_weight=class_weight_dict,\n",
    "                                  random_state=42))\n",
    "])\n",
    "\n",
    "# Hyperparameter grid\n",
    "rf_params = {\n",
    "    'clf__n_estimators': [100, 200],\n",
    "    'clf__max_depth': [None, 10, 20],\n",
    "    'clf__min_samples_split': [2, 5]\n",
    "}\n",
    "\n",
    "# Tuning\n",
    "rf_grid = GridSearchCV(rf_pipe, rf_params,\n",
    "                      cv=StratifiedKFold(3),\n",
    "                      scoring='roc_auc',\n",
    "                      n_jobs=-1,\n",
    "                      verbose=1)\n",
    "rf_grid.fit(X_train, y_train_enc)\n",
    "\n",
    "# Best model\n",
    "best_rf = rf_grid.best_estimator_\n",
    "\n",
    "# Validation evaluation\n",
    "rf_val_pred = best_rf.predict(X_val)\n",
    "rf_val_proba = best_rf.predict_proba(X_val)[:,1]\n",
    "\n",
    "print(\"\\n=== Random Forest Validation ===\")\n",
    "print(f\"Best Params: {rf_grid.best_params_}\")\n",
    "print(classification_report(y_val, le.inverse_transform(rf_val_pred)))\n",
    "print(f\"ROC-AUC: {roc_auc_score(y_val_enc, rf_val_proba):.4f}\")"
   ]
  },
  {
   "cell_type": "markdown",
   "id": "03ed3fcb-e683-48da-8dae-1dd6feb54514",
   "metadata": {},
   "source": [
    "##### 2.5.3 XGBoost"
   ]
  },
  {
   "cell_type": "code",
   "execution_count": 10,
   "id": "05048603-7cac-4d75-9b35-16913c630f40",
   "metadata": {},
   "outputs": [
    {
     "name": "stdout",
     "output_type": "stream",
     "text": [
      "Fitting 3 folds for each of 24 candidates, totalling 72 fits\n",
      "\n",
      "=== XGBoost Validation ===\n",
      "Best Params: {'clf__colsample_bytree': 0.8, 'clf__learning_rate': 0.01, 'clf__max_depth': 5, 'clf__subsample': 1.0}\n",
      "                precision    recall  f1-score   support\n",
      "\n",
      "     lakeTrout       0.82      0.67      0.74      1256\n",
      "smallmouthBass       0.33      0.52      0.40       390\n",
      "\n",
      "      accuracy                           0.64      1646\n",
      "     macro avg       0.57      0.60      0.57      1646\n",
      "  weighted avg       0.70      0.64      0.66      1646\n",
      "\n",
      "ROC-AUC: 0.6774\n"
     ]
    }
   ],
   "source": [
    "# ======================\n",
    "# XGBoost\n",
    "# ======================\n",
    "scale_pos_weight = (y_train_enc == 0).sum() / (y_train_enc == 1).sum() \n",
    "\n",
    "# Pipeline\n",
    "xgb_pipe = Pipeline([\n",
    "    ('clf', XGBClassifier(scale_pos_weight=scale_pos_weight,\n",
    "                         eval_metric='logloss',\n",
    "                          enable_categorical=False,\n",
    "                         random_state=42))\n",
    "])\n",
    "\n",
    "# Hyperparameter grid\n",
    "xgb_params = {\n",
    "    'clf__learning_rate': [0.01, 0.1],\n",
    "    'clf__max_depth': [3, 5, 7],\n",
    "    'clf__subsample': [0.8, 1.0],\n",
    "    'clf__colsample_bytree': [0.8, 1.0]\n",
    "}\n",
    "\n",
    "# Tuning\n",
    "xgb_grid = GridSearchCV(xgb_pipe, xgb_params,\n",
    "                       cv=StratifiedKFold(3),\n",
    "                       scoring='roc_auc',\n",
    "                       n_jobs=-1,\n",
    "                       verbose=1)\n",
    "xgb_grid.fit(X_train, y_train_enc)\n",
    "\n",
    "# Best model\n",
    "best_xgb = xgb_grid.best_estimator_\n",
    "\n",
    "# Validation evaluation\n",
    "xgb_val_pred = best_xgb.predict(X_val)\n",
    "xgb_val_proba = best_xgb.predict_proba(X_val)[:,1]\n",
    "\n",
    "print(\"\\n=== XGBoost Validation ===\")\n",
    "print(f\"Best Params: {xgb_grid.best_params_}\")\n",
    "print(classification_report(y_val, le.inverse_transform(xgb_val_pred)))\n",
    "print(f\"ROC-AUC: {roc_auc_score(y_val_enc, xgb_val_proba):.4f}\")"
   ]
  },
  {
   "cell_type": "markdown",
   "id": "939fec98-b71a-49d9-b5d1-c3e6be987672",
   "metadata": {},
   "source": [
    "## 3. Build deep learning models"
   ]
  },
  {
   "cell_type": "code",
   "execution_count": 21,
   "id": "57f9c31b-e4e9-40ef-852e-f57cabb0c4db",
   "metadata": {},
   "outputs": [],
   "source": [
    "import tensorflow as tf\n",
    "from tensorflow.keras.models import Sequential\n",
    "from tensorflow.keras.layers import LSTM, Dense, Masking, GRU\n",
    "from tensorflow.keras.optimizers import Adam\n",
    "from tensorflow.keras.callbacks import EarlyStopping\n",
    "from tensorflow.keras.layers import BatchNormalization"
   ]
  },
  {
   "cell_type": "markdown",
   "id": "85452e4a-dcaf-42ee-921b-fa8f7ccd90a8",
   "metadata": {},
   "source": [
    "### 3.1 Create sequences"
   ]
  },
  {
   "cell_type": "code",
   "execution_count": 12,
   "id": "2f308cf4-b0c3-4919-b467-8cd8e41349fc",
   "metadata": {},
   "outputs": [],
   "source": [
    "# First, ensure data is properly sorted\n",
    "df = df.sort_values(['fishNum', 'pingDateTime'])\n",
    "df.head()\n",
    "\n",
    "# Define sequence parameters\n",
    "MAX_SEQUENCE_LENGTH = 17  # based on my EDA\n",
    "TIME_DELTA_THRESHOLD = pd.Timedelta('500ms')  # 0.5 seconds"
   ]
  },
  {
   "cell_type": "code",
   "execution_count": 13,
   "id": "6c2cddca-ef65-4205-9d72-1b853c67739d",
   "metadata": {},
   "outputs": [],
   "source": [
    "def create_sequences(group):\n",
    "    sequences = []\n",
    "    current_sequence = []\n",
    "    prev_time = None\n",
    "    \n",
    "    for _, row in group.iterrows():\n",
    "        if prev_time is None or (row['pingDateTime'] - prev_time) <= TIME_DELTA_THRESHOLD:\n",
    "            current_sequence.append(row)\n",
    "        else:\n",
    "            if len(current_sequence) >= 1:  # Minimum sequence length\n",
    "                sequences.append(current_sequence)\n",
    "            current_sequence = [row]\n",
    "        prev_time = row['pingDateTime']\n",
    "    \n",
    "    if len(current_sequence) >= 1:\n",
    "        sequences.append(current_sequence)\n",
    "    \n",
    "    return sequences\n",
    "\n",
    "sequences = []\n",
    "labels = []\n",
    "fish_numbers = []\n",
    "features = [col for col in df.columns if col.startswith('F')] + ['time_elapsed']\n",
    "\n",
    "for fish_num, group in df.groupby('fishNum'):\n",
    "    fish_sequences = create_sequences(group)\n",
    "    for seq in fish_sequences:\n",
    "        #print(seq)\n",
    "        seq_df = pd.DataFrame(seq)\n",
    "        #print(seq_df)\n",
    "        sequences.append(seq_df[features].values)\n",
    "        #print(sequences)\n",
    "        labels.append(seq_df['species'].iloc[0])  # All pings in sequence same species\n",
    "        fish_numbers.append(fish_num)"
   ]
  },
  {
   "cell_type": "code",
   "execution_count": 14,
   "id": "f6542cad-b6df-41d4-8632-aa40ef9ae5a5",
   "metadata": {},
   "outputs": [],
   "source": [
    "# Pad sequences\n",
    "from tensorflow.keras.preprocessing.sequence import pad_sequences\n",
    "X = pad_sequences(sequences, maxlen=MAX_SEQUENCE_LENGTH, dtype='float32', padding='post', truncating='post')\n",
    "y = LabelEncoder().fit_transform(labels)"
   ]
  },
  {
   "cell_type": "markdown",
   "id": "bd04116d-eccf-4924-bf48-6628c2c6a64b",
   "metadata": {},
   "source": [
    "### 3.2 Data Splitting with Sequence Awareness"
   ]
  },
  {
   "cell_type": "code",
   "execution_count": 15,
   "id": "7a1908a6-9bcb-4dc1-a52f-b2c8e9639814",
   "metadata": {},
   "outputs": [],
   "source": [
    "train_fish = set(train_df['fishNum'].unique())\n",
    "val_fish = set(val_df['fishNum'].unique())\n",
    "test_fish = set(test_df['fishNum'].unique())\n",
    "\n",
    "# Create masks using stored fish_numbers\n",
    "train_mask = [fish_num in train_fish for fish_num in fish_numbers]\n",
    "val_mask = [fish_num in val_fish for fish_num in fish_numbers]\n",
    "test_mask = [fish_num in test_fish for fish_num in fish_numbers]\n",
    "\n",
    "# Apply masks\n",
    "X_train, y_train = X[train_mask], y[train_mask]\n",
    "X_val, y_val = X[val_mask], y[val_mask]\n",
    "X_test, y_test = X[test_mask], y[test_mask]"
   ]
  },
  {
   "cell_type": "code",
   "execution_count": 16,
   "id": "2735ac7f-7b24-4379-9008-b57a5e651ef0",
   "metadata": {},
   "outputs": [
    {
     "data": {
      "text/plain": [
       "array([[[-33.789154, -33.65368 , -33.650127, ..., -36.762592,\n",
       "         -35.392704,   1.769   ],\n",
       "        [-33.969067, -33.692936, -33.47688 , ..., -37.160095,\n",
       "         -39.254944,   1.896   ],\n",
       "        [-33.41668 , -33.09398 , -32.84975 , ..., -39.48631 ,\n",
       "         -39.79466 ,   2.021   ],\n",
       "        ...,\n",
       "        [  0.      ,   0.      ,   0.      , ...,   0.      ,\n",
       "           0.      ,   0.      ],\n",
       "        [  0.      ,   0.      ,   0.      , ...,   0.      ,\n",
       "           0.      ,   0.      ],\n",
       "        [  0.      ,   0.      ,   0.      , ...,   0.      ,\n",
       "           0.      ,   0.      ]],\n",
       "\n",
       "       [[-35.31325 , -35.368088, -35.431873, ..., -39.704308,\n",
       "         -39.038986,   3.277   ],\n",
       "        [-34.916985, -34.363155, -34.011868, ..., -32.94879 ,\n",
       "         -32.0524  ,   3.403   ],\n",
       "        [-36.92243 , -36.599297, -36.50434 , ..., -33.53907 ,\n",
       "         -33.651054,   3.527   ],\n",
       "        ...,\n",
       "        [  0.      ,   0.      ,   0.      , ...,   0.      ,\n",
       "           0.      ,   0.      ],\n",
       "        [  0.      ,   0.      ,   0.      , ...,   0.      ,\n",
       "           0.      ,   0.      ],\n",
       "        [  0.      ,   0.      ,   0.      , ...,   0.      ,\n",
       "           0.      ,   0.      ]]], dtype=float32)"
      ]
     },
     "execution_count": 16,
     "metadata": {},
     "output_type": "execute_result"
    }
   ],
   "source": [
    "X_train[1:3]"
   ]
  },
  {
   "cell_type": "code",
   "execution_count": 17,
   "id": "4b92abf4-7716-440c-94a2-96d3557ec79b",
   "metadata": {},
   "outputs": [],
   "source": [
    "# Normalize features\n",
    "scaler = StandardScaler()\n",
    "X_train = scaler.fit_transform(X_train.reshape(-1, X_train.shape[-1])).reshape(X_train.shape)\n",
    "X_val = scaler.transform(X_val.reshape(-1, X_val.shape[-1])).reshape(X_val.shape)\n",
    "X_test = scaler.transform(X_test.reshape(-1, X_test.shape[-1])).reshape(X_test.shape)"
   ]
  },
  {
   "cell_type": "markdown",
   "id": "64a092f9-1ff2-4c49-a42e-d24cfe9383a8",
   "metadata": {},
   "source": [
    "### 3.3 Build models"
   ]
  },
  {
   "cell_type": "markdown",
   "id": "da9fca3d-7f67-4781-aac2-3cb21d2b921b",
   "metadata": {},
   "source": [
    "#### 3.3.1 GRU Model"
   ]
  },
  {
   "cell_type": "code",
   "execution_count": 24,
   "id": "a81710f7-0897-474b-8e02-714f5c3c308c",
   "metadata": {},
   "outputs": [
    {
     "name": "stderr",
     "output_type": "stream",
     "text": [
      "/Users/yingliang/Desktop/FishTetherProject/lib/python3.9/site-packages/keras/src/layers/core/masking.py:48: UserWarning: Do not pass an `input_shape`/`input_dim` argument to a layer. When using Sequential models, prefer using an `Input(shape)` object as the first layer in the model instead.\n",
      "  super().__init__(**kwargs)\n"
     ]
    },
    {
     "data": {
      "text/html": [
       "<pre style=\"white-space:pre;overflow-x:auto;line-height:normal;font-family:Menlo,'DejaVu Sans Mono',consolas,'Courier New',monospace\"><span style=\"font-weight: bold\">Model: \"sequential_2\"</span>\n",
       "</pre>\n"
      ],
      "text/plain": [
       "\u001b[1mModel: \"sequential_2\"\u001b[0m\n"
      ]
     },
     "metadata": {},
     "output_type": "display_data"
    },
    {
     "data": {
      "text/html": [
       "<pre style=\"white-space:pre;overflow-x:auto;line-height:normal;font-family:Menlo,'DejaVu Sans Mono',consolas,'Courier New',monospace\">┏━━━━━━━━━━━━━━━━━━━━━━━━━━━━━━━━━┳━━━━━━━━━━━━━━━━━━━━━━━━┳━━━━━━━━━━━━━━━┓\n",
       "┃<span style=\"font-weight: bold\"> Layer (type)                    </span>┃<span style=\"font-weight: bold\"> Output Shape           </span>┃<span style=\"font-weight: bold\">       Param # </span>┃\n",
       "┡━━━━━━━━━━━━━━━━━━━━━━━━━━━━━━━━━╇━━━━━━━━━━━━━━━━━━━━━━━━╇━━━━━━━━━━━━━━━┩\n",
       "│ masking_3 (<span style=\"color: #0087ff; text-decoration-color: #0087ff\">Masking</span>)             │ (<span style=\"color: #00d7ff; text-decoration-color: #00d7ff\">None</span>, <span style=\"color: #00af00; text-decoration-color: #00af00\">17</span>, <span style=\"color: #00af00; text-decoration-color: #00af00\">427</span>)        │             <span style=\"color: #00af00; text-decoration-color: #00af00\">0</span> │\n",
       "├─────────────────────────────────┼────────────────────────┼───────────────┤\n",
       "│ gru_6 (<span style=\"color: #0087ff; text-decoration-color: #0087ff\">GRU</span>)                     │ (<span style=\"color: #00d7ff; text-decoration-color: #00d7ff\">None</span>, <span style=\"color: #00af00; text-decoration-color: #00af00\">17</span>, <span style=\"color: #00af00; text-decoration-color: #00af00\">64</span>)         │        <span style=\"color: #00af00; text-decoration-color: #00af00\">94,656</span> │\n",
       "├─────────────────────────────────┼────────────────────────┼───────────────┤\n",
       "│ gru_7 (<span style=\"color: #0087ff; text-decoration-color: #0087ff\">GRU</span>)                     │ (<span style=\"color: #00d7ff; text-decoration-color: #00d7ff\">None</span>, <span style=\"color: #00af00; text-decoration-color: #00af00\">32</span>)             │         <span style=\"color: #00af00; text-decoration-color: #00af00\">9,408</span> │\n",
       "├─────────────────────────────────┼────────────────────────┼───────────────┤\n",
       "│ dense_5 (<span style=\"color: #0087ff; text-decoration-color: #0087ff\">Dense</span>)                 │ (<span style=\"color: #00d7ff; text-decoration-color: #00d7ff\">None</span>, <span style=\"color: #00af00; text-decoration-color: #00af00\">16</span>)             │           <span style=\"color: #00af00; text-decoration-color: #00af00\">528</span> │\n",
       "├─────────────────────────────────┼────────────────────────┼───────────────┤\n",
       "│ dense_6 (<span style=\"color: #0087ff; text-decoration-color: #0087ff\">Dense</span>)                 │ (<span style=\"color: #00d7ff; text-decoration-color: #00d7ff\">None</span>, <span style=\"color: #00af00; text-decoration-color: #00af00\">1</span>)              │            <span style=\"color: #00af00; text-decoration-color: #00af00\">17</span> │\n",
       "└─────────────────────────────────┴────────────────────────┴───────────────┘\n",
       "</pre>\n"
      ],
      "text/plain": [
       "┏━━━━━━━━━━━━━━━━━━━━━━━━━━━━━━━━━┳━━━━━━━━━━━━━━━━━━━━━━━━┳━━━━━━━━━━━━━━━┓\n",
       "┃\u001b[1m \u001b[0m\u001b[1mLayer (type)                   \u001b[0m\u001b[1m \u001b[0m┃\u001b[1m \u001b[0m\u001b[1mOutput Shape          \u001b[0m\u001b[1m \u001b[0m┃\u001b[1m \u001b[0m\u001b[1m      Param #\u001b[0m\u001b[1m \u001b[0m┃\n",
       "┡━━━━━━━━━━━━━━━━━━━━━━━━━━━━━━━━━╇━━━━━━━━━━━━━━━━━━━━━━━━╇━━━━━━━━━━━━━━━┩\n",
       "│ masking_3 (\u001b[38;5;33mMasking\u001b[0m)             │ (\u001b[38;5;45mNone\u001b[0m, \u001b[38;5;34m17\u001b[0m, \u001b[38;5;34m427\u001b[0m)        │             \u001b[38;5;34m0\u001b[0m │\n",
       "├─────────────────────────────────┼────────────────────────┼───────────────┤\n",
       "│ gru_6 (\u001b[38;5;33mGRU\u001b[0m)                     │ (\u001b[38;5;45mNone\u001b[0m, \u001b[38;5;34m17\u001b[0m, \u001b[38;5;34m64\u001b[0m)         │        \u001b[38;5;34m94,656\u001b[0m │\n",
       "├─────────────────────────────────┼────────────────────────┼───────────────┤\n",
       "│ gru_7 (\u001b[38;5;33mGRU\u001b[0m)                     │ (\u001b[38;5;45mNone\u001b[0m, \u001b[38;5;34m32\u001b[0m)             │         \u001b[38;5;34m9,408\u001b[0m │\n",
       "├─────────────────────────────────┼────────────────────────┼───────────────┤\n",
       "│ dense_5 (\u001b[38;5;33mDense\u001b[0m)                 │ (\u001b[38;5;45mNone\u001b[0m, \u001b[38;5;34m16\u001b[0m)             │           \u001b[38;5;34m528\u001b[0m │\n",
       "├─────────────────────────────────┼────────────────────────┼───────────────┤\n",
       "│ dense_6 (\u001b[38;5;33mDense\u001b[0m)                 │ (\u001b[38;5;45mNone\u001b[0m, \u001b[38;5;34m1\u001b[0m)              │            \u001b[38;5;34m17\u001b[0m │\n",
       "└─────────────────────────────────┴────────────────────────┴───────────────┘\n"
      ]
     },
     "metadata": {},
     "output_type": "display_data"
    },
    {
     "data": {
      "text/html": [
       "<pre style=\"white-space:pre;overflow-x:auto;line-height:normal;font-family:Menlo,'DejaVu Sans Mono',consolas,'Courier New',monospace\"><span style=\"font-weight: bold\"> Total params: </span><span style=\"color: #00af00; text-decoration-color: #00af00\">104,609</span> (408.63 KB)\n",
       "</pre>\n"
      ],
      "text/plain": [
       "\u001b[1m Total params: \u001b[0m\u001b[38;5;34m104,609\u001b[0m (408.63 KB)\n"
      ]
     },
     "metadata": {},
     "output_type": "display_data"
    },
    {
     "data": {
      "text/html": [
       "<pre style=\"white-space:pre;overflow-x:auto;line-height:normal;font-family:Menlo,'DejaVu Sans Mono',consolas,'Courier New',monospace\"><span style=\"font-weight: bold\"> Trainable params: </span><span style=\"color: #00af00; text-decoration-color: #00af00\">104,609</span> (408.63 KB)\n",
       "</pre>\n"
      ],
      "text/plain": [
       "\u001b[1m Trainable params: \u001b[0m\u001b[38;5;34m104,609\u001b[0m (408.63 KB)\n"
      ]
     },
     "metadata": {},
     "output_type": "display_data"
    },
    {
     "data": {
      "text/html": [
       "<pre style=\"white-space:pre;overflow-x:auto;line-height:normal;font-family:Menlo,'DejaVu Sans Mono',consolas,'Courier New',monospace\"><span style=\"font-weight: bold\"> Non-trainable params: </span><span style=\"color: #00af00; text-decoration-color: #00af00\">0</span> (0.00 B)\n",
       "</pre>\n"
      ],
      "text/plain": [
       "\u001b[1m Non-trainable params: \u001b[0m\u001b[38;5;34m0\u001b[0m (0.00 B)\n"
      ]
     },
     "metadata": {},
     "output_type": "display_data"
    }
   ],
   "source": [
    "def build_model(input_shape):\n",
    "    model = Sequential([\n",
    "        Masking(mask_value=0., input_shape=input_shape),\n",
    "        GRU(64, return_sequences=True),\n",
    "        GRU(32),\n",
    "        Dense(16, activation='relu'),\n",
    "        Dense(1, activation='sigmoid')\n",
    "    ])\n",
    "    \n",
    "    model.compile(\n",
    "        optimizer=Adam(learning_rate=0.001),\n",
    "        loss='binary_crossentropy',\n",
    "        metrics=['accuracy', \n",
    "                tf.keras.metrics.AUC(name='roc_auc')]\n",
    "    )\n",
    "    return model\n",
    "\n",
    "gru = build_model((MAX_SEQUENCE_LENGTH, len(features)))\n",
    "gru.summary()"
   ]
  },
  {
   "cell_type": "code",
   "execution_count": 25,
   "id": "cc42113b-30bf-4111-9170-c6f991418c23",
   "metadata": {},
   "outputs": [
    {
     "name": "stdout",
     "output_type": "stream",
     "text": [
      "Epoch 1/50\n",
      "\u001b[1m17/17\u001b[0m \u001b[32m━━━━━━━━━━━━━━━━━━━━\u001b[0m\u001b[37m\u001b[0m \u001b[1m2s\u001b[0m 32ms/step - accuracy: 0.5117 - loss: 0.7209 - roc_auc: 0.4963 - val_accuracy: 0.6975 - val_loss: 0.6414 - val_roc_auc: 0.5110\n",
      "Epoch 2/50\n",
      "\u001b[1m17/17\u001b[0m \u001b[32m━━━━━━━━━━━━━━━━━━━━\u001b[0m\u001b[37m\u001b[0m \u001b[1m0s\u001b[0m 11ms/step - accuracy: 0.6752 - loss: 0.7145 - roc_auc: 0.5073 - val_accuracy: 0.5154 - val_loss: 0.6756 - val_roc_auc: 0.5660\n",
      "Epoch 3/50\n",
      "\u001b[1m17/17\u001b[0m \u001b[32m━━━━━━━━━━━━━━━━━━━━\u001b[0m\u001b[37m\u001b[0m \u001b[1m0s\u001b[0m 11ms/step - accuracy: 0.6914 - loss: 0.6920 - roc_auc: 0.5769 - val_accuracy: 0.4228 - val_loss: 0.7050 - val_roc_auc: 0.5512\n",
      "Epoch 4/50\n",
      "\u001b[1m17/17\u001b[0m \u001b[32m━━━━━━━━━━━━━━━━━━━━\u001b[0m\u001b[37m\u001b[0m \u001b[1m0s\u001b[0m 11ms/step - accuracy: 0.3441 - loss: 0.6857 - roc_auc: 0.6284 - val_accuracy: 0.5031 - val_loss: 0.6807 - val_roc_auc: 0.5708\n",
      "Epoch 5/50\n",
      "\u001b[1m17/17\u001b[0m \u001b[32m━━━━━━━━━━━━━━━━━━━━\u001b[0m\u001b[37m\u001b[0m \u001b[1m0s\u001b[0m 11ms/step - accuracy: 0.6141 - loss: 0.6599 - roc_auc: 0.6902 - val_accuracy: 0.6975 - val_loss: 0.6044 - val_roc_auc: 0.6061\n",
      "Epoch 6/50\n",
      "\u001b[1m17/17\u001b[0m \u001b[32m━━━━━━━━━━━━━━━━━━━━\u001b[0m\u001b[37m\u001b[0m \u001b[1m0s\u001b[0m 12ms/step - accuracy: 0.6123 - loss: 0.6838 - roc_auc: 0.6512 - val_accuracy: 0.4383 - val_loss: 0.7341 - val_roc_auc: 0.5981\n",
      "Epoch 7/50\n",
      "\u001b[1m17/17\u001b[0m \u001b[32m━━━━━━━━━━━━━━━━━━━━\u001b[0m\u001b[37m\u001b[0m \u001b[1m0s\u001b[0m 13ms/step - accuracy: 0.6279 - loss: 0.6173 - roc_auc: 0.7629 - val_accuracy: 0.6019 - val_loss: 0.6591 - val_roc_auc: 0.6257\n",
      "Epoch 8/50\n",
      "\u001b[1m17/17\u001b[0m \u001b[32m━━━━━━━━━━━━━━━━━━━━\u001b[0m\u001b[37m\u001b[0m \u001b[1m0s\u001b[0m 13ms/step - accuracy: 0.6937 - loss: 0.5463 - roc_auc: 0.8054 - val_accuracy: 0.7068 - val_loss: 0.6185 - val_roc_auc: 0.5852\n",
      "Epoch 9/50\n",
      "\u001b[1m17/17\u001b[0m \u001b[32m━━━━━━━━━━━━━━━━━━━━\u001b[0m\u001b[37m\u001b[0m \u001b[1m0s\u001b[0m 14ms/step - accuracy: 0.6786 - loss: 0.5985 - roc_auc: 0.7717 - val_accuracy: 0.5093 - val_loss: 0.7919 - val_roc_auc: 0.6084\n",
      "Epoch 10/50\n",
      "\u001b[1m17/17\u001b[0m \u001b[32m━━━━━━━━━━━━━━━━━━━━\u001b[0m\u001b[37m\u001b[0m \u001b[1m0s\u001b[0m 13ms/step - accuracy: 0.6785 - loss: 0.4940 - roc_auc: 0.8410 - val_accuracy: 0.5679 - val_loss: 0.7117 - val_roc_auc: 0.6002\n",
      "Epoch 11/50\n",
      "\u001b[1m17/17\u001b[0m \u001b[32m━━━━━━━━━━━━━━━━━━━━\u001b[0m\u001b[37m\u001b[0m \u001b[1m0s\u001b[0m 13ms/step - accuracy: 0.7103 - loss: 0.4992 - roc_auc: 0.8152 - val_accuracy: 0.6327 - val_loss: 0.6922 - val_roc_auc: 0.5921\n",
      "Epoch 12/50\n",
      "\u001b[1m17/17\u001b[0m \u001b[32m━━━━━━━━━━━━━━━━━━━━\u001b[0m\u001b[37m\u001b[0m \u001b[1m0s\u001b[0m 13ms/step - accuracy: 0.7287 - loss: 0.4891 - roc_auc: 0.8389 - val_accuracy: 0.3951 - val_loss: 0.9242 - val_roc_auc: 0.6159\n"
     ]
    }
   ],
   "source": [
    "class_weights = compute_class_weight('balanced', classes=np.unique(y_train), y=y_train)\n",
    "class_weight_dict = {0: class_weights[0], 1: class_weights[1]}\n",
    "\n",
    "early_stop = EarlyStopping(monitor='val_roc_auc', patience=5, mode='max', restore_best_weights=True)\n",
    "\n",
    "history = gru.fit(\n",
    "    X_train, y_train,\n",
    "    validation_data=(X_val, y_val),\n",
    "    epochs=50,\n",
    "    batch_size=64,\n",
    "    class_weight=class_weight_dict,\n",
    "    callbacks=[early_stop],\n",
    "    verbose=1\n",
    ")"
   ]
  },
  {
   "cell_type": "code",
   "execution_count": null,
   "id": "cc06ed35-d538-4eae-976b-0f24d44b2d8c",
   "metadata": {},
   "outputs": [],
   "source": []
  }
 ],
 "metadata": {
  "kernelspec": {
   "display_name": "Python 3 (ipykernel)",
   "language": "python",
   "name": "python3"
  },
  "language_info": {
   "codemirror_mode": {
    "name": "ipython",
    "version": 3
   },
   "file_extension": ".py",
   "mimetype": "text/x-python",
   "name": "python",
   "nbconvert_exporter": "python",
   "pygments_lexer": "ipython3",
   "version": "3.9.6"
  }
 },
 "nbformat": 4,
 "nbformat_minor": 5
}
